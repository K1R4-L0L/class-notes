{
 "cells": [
  {
   "cell_type": "markdown",
   "id": "d1adb411-32e3-4312-98e6-08bfc6dc6e28",
   "metadata": {},
   "source": [
    "# HTML Notes"
   ]
  },
  {
   "cell_type": "markdown",
   "id": "ba7f184f-d52c-4ee0-93b0-59dbb344f2ef",
   "metadata": {},
   "source": [
    "## Subheading"
   ]
  },
  {
   "cell_type": "markdown",
   "id": "e42c8cf1-3fe3-490b-afcd-159abad438a3",
   "metadata": {},
   "source": [
    "### Smaller Header"
   ]
  },
  {
   "cell_type": "markdown",
   "id": "df0d05ad-cc58-45e8-9965-4085b6b8cc53",
   "metadata": {},
   "source": [
    "#### Even Smaller Heading"
   ]
  },
  {
   "cell_type": "markdown",
   "id": "305969dd-f0bd-4aa2-8f9e-daa131b3aa2d",
   "metadata": {},
   "source": [
    "this is a paragraph"
   ]
  },
  {
   "cell_type": "markdown",
   "id": "50cec3ad-cf7a-4818-b557-bf1f01cecaf3",
   "metadata": {},
   "source": [
    "In `HTML` the `<p>` tag "
   ]
  },
  {
   "cell_type": "markdown",
   "id": "53450f9a-026f-445a-8339-8571796587c3",
   "metadata": {},
   "source": [
    "```\n",
    "<body>\n",
    "    <p> this is a paragragh</p>\n",
    "<body>\n",
    "```"
   ]
  },
  {
   "cell_type": "markdown",
   "id": "abbe6520-377b-4d58-811c-d488ba97a9d3",
   "metadata": {},
   "source": [
    "__bold text__\n"
   ]
  },
  {
   "cell_type": "markdown",
   "id": "ee9ae41e-3f4f-4b6e-a540-baa2f838c705",
   "metadata": {},
   "source": [
    "1. Hi\n",
    "2. There\n",
    "3. Hello\n",
    "4. Back"
   ]
  },
  {
   "cell_type": "markdown",
   "id": "5bd62b35-9b03-4436-a596-93e11c203d90",
   "metadata": {},
   "source": [
    "*italic*\n",
    "_italic_"
   ]
  },
  {
   "cell_type": "markdown",
   "id": "6c6c0056-1877-4957-8703-6a608b0c986e",
   "metadata": {},
   "source": [
    "[dawg](https://i1.sndcdn.com/avatars-000471603732-61jlua-t240x240.jpg)"
   ]
  },
  {
   "cell_type": "markdown",
   "id": "0992a2ab-3de3-4f80-8b60-aea71f78c99d",
   "metadata": {},
   "source": [
    "# HTML Notes"
   ]
  },
  {
   "cell_type": "markdown",
   "id": "3bdb4962-d3e3-446a-a393-4aeff78e75da",
   "metadata": {},
   "source": [
    "## HTML Structure"
   ]
  },
  {
   "cell_type": "markdown",
   "id": "4f636935-37f0-440d-93b7-7bf9c98f3eee",
   "metadata": {},
   "source": [
    "HTML is the standard language for creating web pages. It uses a series of elements represented by tags, like this:"
   ]
  },
  {
   "cell_type": "markdown",
   "id": "2a298834-44d1-4871-b357-bb565dac57cb",
   "metadata": {},
   "source": [
    "```\n",
    "<<!DOCTYPE html>\n",
    " <html>\n",
    "    <head>\n",
    "        <title>Page Title</Title>\n",
    "    </head>\n",
    "        <body>\n",
    "            <h1>This is a Heading</h1>\n",
    "            <p>This is a paragraph.</p>\n",
    "        <body>\n",
    "</html>\n"
   ]
  },
  {
   "cell_type": "markdown",
   "id": "55b6c9fa-5205-4c28-9c51-09e51c77902e",
   "metadata": {},
   "source": [
    "## Key Elements "
   ]
  },
  {
   "cell_type": "markdown",
   "id": "4d88be4e-020b-413f-bb61-a0f5652d9b84",
   "metadata": {},
   "source": [
    "```\n",
    "<<!DOCTYPE html> Declares the document as HTMLS\n",
    "```"
   ]
  },
  {
   "cell_type": "markdown",
   "id": "4764be70-6823-463d-883c-cb9e582e2c55",
   "metadata": {},
   "source": [
    "```\n",
    "<html> The root element of the HTML document\n",
    "```"
   ]
  },
  {
   "cell_type": "markdown",
   "id": "465cd74b-316f-4f85-adab-0edf5d22115e",
   "metadata": {},
   "source": [
    "```\n",
    "<head> Contains meta-information about the document (e.g., title, links to stylesheets).\n",
    "```"
   ]
  },
  {
   "cell_type": "markdown",
   "id": "ae79e339-5886-4034-912e-c1bd7c2d896f",
   "metadata": {},
   "source": [
    "```\n",
    "<body> contains the content of the document.\n",
    "```"
   ]
  },
  {
   "cell_type": "markdown",
   "id": "e9ec5d21-d9c4-41ee-bf4e-aeeac311a9d0",
   "metadata": {},
   "source": [
    "## Common HTML Tags"
   ]
  },
  {
   "cell_type": "markdown",
   "id": "e8e048cb-fcea-43c0-b4b5-7fb96a2a2850",
   "metadata": {},
   "source": [
    "### Headings"
   ]
  },
  {
   "cell_type": "markdown",
   "id": "ff386fa6-1c82-4dbc-85f2-c2c60643d39b",
   "metadata": {},
   "source": [
    "```\n",
    "HTML offers six levels of headings, from <h1> to <h6>, where <h1> is the highest (or most important) level.\n",
    "```"
   ]
  },
  {
   "cell_type": "markdown",
   "id": "99786d41-f6f4-4689-a46c-453b0fa1a643",
   "metadata": {},
   "source": [
    "```\n",
    "<h1>Main Heading</h1>\n",
    "```"
   ]
  },
  {
   "cell_type": "markdown",
   "id": "2cb3445b-e7d8-4655-b419-1f2b5d36583a",
   "metadata": {},
   "source": [
    "```\n",
    "<h2> Subheading</h2>\n",
    "```"
   ]
  },
  {
   "cell_type": "markdown",
   "id": "3aed3d04-842e-4aaf-a3f5-8103b687df23",
   "metadata": {},
   "source": [
    "```\n",
    "<h3>Sub-subheading</h3>\n",
    "```"
   ]
  },
  {
   "cell_type": "markdown",
   "id": "2f37e0d4-bd25-441b-8986-cb05bfb5956a",
   "metadata": {},
   "source": [
    "### Paragraghs"
   ]
  },
  {
   "cell_type": "markdown",
   "id": "c522267c-8eef-4c23-9585-2c6218ea28e2",
   "metadata": {},
   "source": [
    "```\n",
    "Paragraghs are created using the <p> tag\n",
    "```"
   ]
  },
  {
   "cell_type": "markdown",
   "id": "0bb4bda3-a494-4e67-a5cc-7ca9918c1b5d",
   "metadata": {},
   "source": [
    "This is a paragraph"
   ]
  },
  {
   "cell_type": "markdown",
   "id": "6bbeac88-b8ce-493f-9204-486e5d25f89a",
   "metadata": {},
   "source": [
    "### Links"
   ]
  },
  {
   "cell_type": "markdown",
   "id": "84c1d7eb-eb34-4cfa-8423-1537653bd4e4",
   "metadata": {},
   "source": [
    "```\n",
    "links are created with the <a> tag, which includes an href attribute to specify URL.\n",
    "```"
   ]
  },
  {
   "cell_type": "markdown",
   "id": "7c9d2559-b642-4928-a65c-7f5974f32b3b",
   "metadata": {},
   "source": [
    "```\n",
    "<a href=\"https://www.prydwen.gg\">Random Website</a>\n",
    "```"
   ]
  },
  {
   "cell_type": "markdown",
   "id": "6f94d3e7-7e92-4b23-9fa0-443795e09a45",
   "metadata": {},
   "source": [
    "### Images"
   ]
  },
  {
   "cell_type": "markdown",
   "id": "6f82f9e7-29ed-4007-ad77-acf058302548",
   "metadata": {},
   "source": [
    "```\n",
    "images are embedded using the <img> tag with src and alt attributes\n",
    "```"
   ]
  },
  {
   "cell_type": "markdown",
   "id": "c4cfe6d6-eb88-4f6f-a37f-80f1718d88a5",
   "metadata": {},
   "source": [
    "```\n",
    "<img src=\"https://wpcdn.web.wsu.edu/news/uploads/sites/2797/2024/08/dog1-1024x676.jpg\" alt=dog>\n",
    "```"
   ]
  },
  {
   "cell_type": "markdown",
   "id": "39d96def-79d0-4974-8acc-d939da9067d0",
   "metadata": {},
   "source": [
    "### Lists"
   ]
  },
  {
   "cell_type": "markdown",
   "id": "d9b81f92-f449-49a0-a7e0-21c20c5bbc07",
   "metadata": {},
   "source": [
    "```\n",
    "there are two main types of lists: ordered <ol? and unordered <ul>. An unordered list will have dots or a decorator at the beginning of the list, while a ordered list will be numbered.\n",
    "```"
   ]
  },
  {
   "cell_type": "markdown",
   "id": "02717d6a-2ec2-4f98-bb1c-946fab571560",
   "metadata": {},
   "source": [
    "__unordered List__"
   ]
  },
  {
   "cell_type": "markdown",
   "id": "55452a79-97c7-4d4a-9ad9-81ee27fb42f0",
   "metadata": {},
   "source": [
    "```\n",
    "<ul> \n",
    "    <li>Apple </l1>\n",
    "    <li>Banana</l1>\n",
    "    <li>Lemon</li>\n",
    "</ul>\n",
    "```"
   ]
  },
  {
   "cell_type": "markdown",
   "id": "dd589efa-9a7a-4b72-99ba-8f9aac32fb07",
   "metadata": {},
   "source": [
    "__Ordered List__"
   ]
  },
  {
   "cell_type": "markdown",
   "id": "424903a7-4332-4f38-9a41-9e996cd6b409",
   "metadata": {},
   "source": [
    "```\n",
    "<ol> \n",
    "    <li>A</li>\n",
    "    <li>B</li>\n",
    "    <li>C</li>\n",
    "<ol>\n",
    "```"
   ]
  },
  {
   "cell_type": "markdown",
   "id": "7d918dc3-5e1f-42bb-8040-9f440978a5b3",
   "metadata": {},
   "source": [
    "## Attributes"
   ]
  },
  {
   "cell_type": "markdown",
   "id": "61849608-95ab-4be3-bc57-7f876c3d7c0d",
   "metadata": {},
   "source": [
    "HTML elements can have attributes, which provide additional information about the element. Attributes are always defined in the opening tag and usually come in name/value pairs. There are many different types of attributes that can be applied to HTML tags"
   ]
  },
  {
   "cell_type": "markdown",
   "id": "5ad18491-cc63-4532-bc47-391d0844b645",
   "metadata": {},
   "source": [
    "__Examples__"
   ]
  },
  {
   "cell_type": "markdown",
   "id": "b5e3e58c-f00e-45e7-8f18-2efb0b2b078c",
   "metadata": {},
   "source": [
    "```\n",
    "<img src=\"this doesn't exist.jpg\" width=\"?\" height=\"?\">\n",
    "```"
   ]
  },
  {
   "cell_type": "markdown",
   "id": "19f80624-79f5-428a-b035-764cf7ef21d3",
   "metadata": {},
   "source": [
    "img src= specifiec the img "
   ]
  },
  {
   "cell_type": "markdown",
   "id": "8986ed5c-d381-4e0f-ae85-97318935d2b5",
   "metadata": {},
   "source": [
    "width= and height= indicate dimensions of the img"
   ]
  },
  {
   "cell_type": "markdown",
   "id": "c1fd5d40-4396-4e09-915d-9fdb09f76f1f",
   "metadata": {},
   "source": [
    "## Divs & Spans"
   ]
  },
  {
   "cell_type": "markdown",
   "id": "2a76a634-46e3-4c45-b61d-93a3ecf663ad",
   "metadata": {},
   "source": [
    "```\n",
    "<div> Defines a division or section in an HTML document. it's often used to group elements fir styling or layout.\n",
    "```"
   ]
  },
  {
   "cell_type": "markdown",
   "id": "f12b3cf2-7141-4994-a794-0e4431243c0e",
   "metadata": {},
   "source": [
    "```\n",
    "<span> An inline container used to group content for styling or scripting\n",
    "```"
   ]
  },
  {
   "cell_type": "markdown",
   "id": "0355c012-6c99-449f-999e-488650727d5e",
   "metadata": {},
   "source": [
    "### Example"
   ]
  },
  {
   "cell_type": "markdown",
   "id": "1c8ad925-88fd-4bae-bbcb-24f9190a931d",
   "metadata": {},
   "source": [
    "```\n",
    "<div>\n",
    "    <h1>Number one step to do CSAP</h1>\n",
    "    <p> actually code. </p>\n",
    "</div>\n",
    "```"
   ]
  },
  {
   "cell_type": "markdown",
   "id": "0a0ee0da-63c0-4daf-9ff6-42a493b5f292",
   "metadata": {},
   "source": [
    "```\n",
    "<span> this is an example of span.</span>\n",
    "```"
   ]
  },
  {
   "cell_type": "markdown",
   "id": "b49fe236-843f-4da5-a8f7-f282700c1a2a",
   "metadata": {},
   "source": [
    "## Forms"
   ]
  },
  {
   "cell_type": "markdown",
   "id": "f6c87e68-0c57-4575-a4e9-42ebba614b57",
   "metadata": {},
   "source": [
    "HTML forms collect user input. A form usually contains input. textarea, select, and button elements."
   ]
  },
  {
   "cell_type": "markdown",
   "id": "eb48fe74-45cc-40ea-b283-e8698c4b6bba",
   "metadata": {},
   "source": [
    "```\n",
    "<form action=\" /submit\" method=\"post\">\n",
    "    <label for=\"name\">Name:</label>\n",
    "    <input type=\"text\" id=\"name\" name=\"name\"\n",
    "    <input type=\"submit\" value=\"Submit\">\n",
    "</form>\n",
    "```"
   ]
  },
  {
   "cell_type": "markdown",
   "id": "467ad5d3-b0cd-4702-b226-b5a9f2a4dff6",
   "metadata": {},
   "source": [
    "action URL to send form data to "
   ]
  },
  {
   "cell_type": "markdown",
   "id": "8eb699d5-17ac-46af-a951-f4da42827ff2",
   "metadata": {},
   "source": [
    "method Specifies how to send form data (get or post)"
   ]
  },
  {
   "cell_type": "markdown",
   "id": "47d28b49-bd76-470d-8c70-5ab669eae7fe",
   "metadata": {},
   "source": [
    "## Semantic HTML"
   ]
  },
  {
   "cell_type": "markdown",
   "id": "15796dbf-c4b0-4640-aece-576c3b215d92",
   "metadata": {},
   "source": [
    "HTML5 introduced new semantic elements to provide better meaning to web pages. This is for better code readability, accessibility for those living with disabilities and many other benefits."
   ]
  },
  {
   "cell_type": "markdown",
   "id": "1fe521ef-fe85-4d2f-b70a-7add32d7a988",
   "metadata": {},
   "source": [
    "```\n",
    "<header> Defines a header section\n",
    "```"
   ]
  },
  {
   "cell_type": "markdown",
   "id": "deab50c9-b4d6-424a-b4c3-cd3e6043dc9c",
   "metadata": {},
   "source": [
    "```\n",
    "<nav> Defines a navigation bar\n",
    "```"
   ]
  },
  {
   "cell_type": "markdown",
   "id": "b6554ec6-0e83-40e8-aa62-45b64f9cb02c",
   "metadata": {},
   "source": [
    "```\n",
    "<section> Defines a section in a document\n",
    "```"
   ]
  },
  {
   "cell_type": "markdown",
   "id": "a4c2e677-eb3d-4ed4-8e15-18d4ee6c247c",
   "metadata": {},
   "source": [
    "```\n",
    "<article> Defines independent content\n",
    "```"
   ]
  },
  {
   "cell_type": "markdown",
   "id": "73c0bd2a-cb07-4737-8323-c02ab1b6f882",
   "metadata": {},
   "source": [
    "```\n",
    "<footer> Defines a footer for a document or section\n",
    "```"
   ]
  },
  {
   "cell_type": "markdown",
   "id": "8efc784c-0fc2-449f-a74e-8b2b62e3159f",
   "metadata": {},
   "source": [
    "__Examples of Semantic HTML__"
   ]
  },
  {
   "cell_type": "markdown",
   "id": "a5a52095-5e63-47ee-bf5b-c3a61f526356",
   "metadata": {},
   "source": [
    "```\n",
    "<header>\n",
    "    <h1>Some cool header</h1>\n",
    "</header>\n",
    "```"
   ]
  },
  {
   "cell_type": "markdown",
   "id": "46c9326e-7cc3-4c80-8511-0a43d38ba3fe",
   "metadata": {},
   "source": [
    "```\n",
    "<nav>\n",
    "    <a href=\"/home\">Home</a>\n",
    "    <a href=\"/about\">About</a>\n",
    "</nav>\n",
    "```"
   ]
  },
  {
   "cell_type": "markdown",
   "id": "9a7a0899-f8f6-46f4-9543-651dbb0fc9ca",
   "metadata": {},
   "source": [
    "```\n",
    "<section>\n",
    "    <article>\n",
    "        <h2> Why Im So Cool</h2>\n",
    "        <p> multiple paragraghs why im cool...</p>\n",
    "    </article>\n",
    "</section>\n",
    "```"
   ]
  },
  {
   "cell_type": "markdown",
   "id": "6b0b22b8-1a60-4062-bce5-bbcbba6fd5fa",
   "metadata": {},
   "source": [
    "```\n",
    "<footer>\n",
    "    <p>some content that is about footers</p>\n",
    "</footer>\n",
    "```"
   ]
  }
 ],
 "metadata": {
  "kernelspec": {
   "display_name": "Python 3 (ipykernel)",
   "language": "python",
   "name": "python3"
  },
  "language_info": {
   "codemirror_mode": {
    "name": "ipython",
    "version": 3
   },
   "file_extension": ".py",
   "mimetype": "text/x-python",
   "name": "python",
   "nbconvert_exporter": "python",
   "pygments_lexer": "ipython3",
   "version": "3.12.1"
  }
 },
 "nbformat": 4,
 "nbformat_minor": 5
}
