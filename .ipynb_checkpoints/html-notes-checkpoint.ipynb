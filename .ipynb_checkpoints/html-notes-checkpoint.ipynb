{
 "cells": [
  {
   "cell_type": "markdown",
   "id": "d1adb411-32e3-4312-98e6-08bfc6dc6e28",
   "metadata": {},
   "source": [
    "# HTML Notes"
   ]
  },
  {
   "cell_type": "markdown",
   "id": "ba7f184f-d52c-4ee0-93b0-59dbb344f2ef",
   "metadata": {},
   "source": [
    "## Subheading"
   ]
  },
  {
   "cell_type": "markdown",
   "id": "e42c8cf1-3fe3-490b-afcd-159abad438a3",
   "metadata": {},
   "source": [
    "### Smaller Header"
   ]
  },
  {
   "cell_type": "markdown",
   "id": "df0d05ad-cc58-45e8-9965-4085b6b8cc53",
   "metadata": {},
   "source": [
    "#### Even Smaller Heading"
   ]
  },
  {
   "cell_type": "markdown",
   "id": "305969dd-f0bd-4aa2-8f9e-daa131b3aa2d",
   "metadata": {},
   "source": [
    "this is a paragraph"
   ]
  },
  {
   "cell_type": "markdown",
   "id": "50cec3ad-cf7a-4818-b557-bf1f01cecaf3",
   "metadata": {},
   "source": [
    "In `HTML` the `<p>` tag "
   ]
  },
  {
   "cell_type": "markdown",
   "id": "53450f9a-026f-445a-8339-8571796587c3",
   "metadata": {},
   "source": [
    "```\n",
    "<body>\n",
    "    <p> this is a paragragh</p>\n",
    "<body>\n",
    "```"
   ]
  },
  {
   "cell_type": "markdown",
   "id": "abbe6520-377b-4d58-811c-d488ba97a9d3",
   "metadata": {},
   "source": [
    "__bold text__\n"
   ]
  },
  {
   "cell_type": "markdown",
   "id": "ee9ae41e-3f4f-4b6e-a540-baa2f838c705",
   "metadata": {},
   "source": [
    "1. Hi\n",
    "2. There\n",
    "3. Hello\n",
    "4. Back"
   ]
  },
  {
   "cell_type": "markdown",
   "id": "5bd62b35-9b03-4436-a596-93e11c203d90",
   "metadata": {},
   "source": [
    "*italic*\n",
    "_italic_"
   ]
  },
  {
   "cell_type": "markdown",
   "id": "6c6c0056-1877-4957-8703-6a608b0c986e",
   "metadata": {},
   "source": [
    "[dawg](https://i1.sndcdn.com/avatars-000471603732-61jlua-t240x240.jpg)"
   ]
  },
  {
   "cell_type": "markdown",
   "id": "3bdb4962-d3e3-446a-a393-4aeff78e75da",
   "metadata": {},
   "source": [
    "# HTML Structure"
   ]
  },
  {
   "cell_type": "markdown",
   "id": "4f636935-37f0-440d-93b7-7bf9c98f3eee",
   "metadata": {},
   "source": [
    "HTML is the standard language for creating web pages. It uses a series of elements represented by tags, like this:"
   ]
  },
  {
   "cell_type": "markdown",
   "id": "2a298834-44d1-4871-b357-bb565dac57cb",
   "metadata": {},
   "source": [
    "```\n",
    "<<!DOCTYPE html>\n",
    " <html>\n",
    "    <head>\n",
    "        <title>Page Title</Title>\n",
    "    </head>\n",
    "        <body>\n",
    "            <h1>This is a Heading</h1>\n",
    "            <p>This is a paragraph.</p>\n",
    "        <body>\n",
    "</html>"
   ]
  }
 ],
 "metadata": {
  "kernelspec": {
   "display_name": "Python 3 (ipykernel)",
   "language": "python",
   "name": "python3"
  },
  "language_info": {
   "codemirror_mode": {
    "name": "ipython",
    "version": 3
   },
   "file_extension": ".py",
   "mimetype": "text/x-python",
   "name": "python",
   "nbconvert_exporter": "python",
   "pygments_lexer": "ipython3",
   "version": "3.12.1"
  }
 },
 "nbformat": 4,
 "nbformat_minor": 5
}
