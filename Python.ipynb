{
 "cells": [
  {
   "cell_type": "markdown",
   "id": "949c495c-4f40-446b-888e-7a6cf1e4ed66",
   "metadata": {},
   "source": [
    "# Python Programming: A General Overview"
   ]
  },
  {
   "cell_type": "markdown",
   "id": "3a4e6fbe-6116-42ed-9180-a141919dc53c",
   "metadata": {},
   "source": [
    "## Introduction"
   ]
  },
  {
   "cell_type": "markdown",
   "id": "0b884dfd-baba-406a-b185-e1cb32cf04bd",
   "metadata": {},
   "source": [
    "Python is a high-level, interpreted programming language known for its readability and simplicity. It's widely used in various fields like web development, data science, artifical intelligence, and more."
   ]
  },
  {
   "cell_type": "markdown",
   "id": "2b0ae512-839f-4fdf-88f2-caf2405b9f38",
   "metadata": {},
   "source": [
    "## Variables "
   ]
  },
  {
   "cell_type": "markdown",
   "id": "73840282-b485-43af-80c2-f9c752cac6cb",
   "metadata": {},
   "source": [
    "Variables are used to store data values. In Python, you don't need to declare the type of a variable explicitly."
   ]
  },
  {
   "cell_type": "markdown",
   "id": "151042da-0b66-416f-9daa-2d770e55610f",
   "metadata": {},
   "source": [
    "```\n",
    "# Example of variable assignment\n",
    "x = 5          # Integer\n",
    "y = 3.14       # Float\n",
    "name = \"Alice\" # String\n",
    "```"
   ]
  },
  {
   "cell_type": "markdown",
   "id": "b8c92698-e56f-4410-ba16-67172f88c89a",
   "metadata": {},
   "source": [
    "## Data Types"
   ]
  },
  {
   "cell_type": "markdown",
   "id": "4ac413fb-fe57-46ac-9e5b-a4645f16aaed",
   "metadata": {},
   "source": [
    "Common data types in Python include:"
   ]
  },
  {
   "cell_type": "markdown",
   "id": "e3a102c8-c457-4576-a4da-4b7416f8c536",
   "metadata": {},
   "source": [
    "```\n",
    "1. Integers ( int ): Whole numbers, e.g,. 1 , 42\n",
    "2. Floating-point numbers ( floar ): Decimal numbers, e.g., 3.14 , 0.001\n",
    "3. Strings ( str ): Text data, e.g., \"Hello, World!\"\n",
    "4. Booleans (boo1 ): Logical values True or False\n",
    "5. lists ( list ): Ordered, mutable collections, e.g., [1, 2, 3]\n",
    "6. Dictionaries ( dict ): Key-value pairs e.g., { \"name\": \"Alice\", \"age\": 25}\n",
    "7. Tuples ( tuple ): Ordered, immutable collections, e.g., (1, 2, 3)\n",
    "8. Sets ( set ): Unordered collections of unique items, e.g., {1, 2, 3}\n",
    "```"
   ]
  },
  {
   "cell_type": "markdown",
   "id": "e20101b9-35bc-4621-ba84-8cc1ecbc6da9",
   "metadata": {},
   "source": [
    "## Operators"
   ]
  },
  {
   "cell_type": "markdown",
   "id": "2a5944f1-b218-4394-859d-36cb95fd67d0",
   "metadata": {},
   "source": [
    "### Arithmetic Operators "
   ]
  },
  {
   "cell_type": "markdown",
   "id": "dbc57ee2-5757-471f-89c4-e99f6a83d5bc",
   "metadata": {},
   "source": [
    "1. Addition: + \n",
    "2. Subtraction: -\n",
    "3. Multiplication: *\n",
    "4. Division: /\n",
    "5. Modulus (remainder): $\n",
    "6. Exponentiation: **\n",
    "7. Floor Division: //"
   ]
  },
  {
   "cell_type": "markdown",
   "id": "085f2752-a161-4bc4-b9c7-6a5003508da7",
   "metadata": {},
   "source": [
    "### Comparison Operators "
   ]
  },
  {
   "cell_type": "markdown",
   "id": "5e439110-9989-439f-ac71-594437c87675",
   "metadata": {},
   "source": [
    "1. Equal to: ==\n",
    "2. Not equal to: !=\n",
    "3. Greater than: >\n",
    "4. Less than: <\n",
    "5. Greater than or equal to: >=\n",
    "6. Less than or equal to: <="
   ]
  },
  {
   "cell_type": "markdown",
   "id": "b884f9cd-6436-4f3d-8d3a-39e73f48f467",
   "metadata": {},
   "source": [
    "### Logical Operators "
   ]
  },
  {
   "cell_type": "markdown",
   "id": "305eb14e-3798-42d0-a7bf-8cb06f8dc530",
   "metadata": {},
   "source": [
    "1. And: and\n",
    "2. Or: or\n",
    "3. Not: not "
   ]
  },
  {
   "cell_type": "markdown",
   "id": "3ebff433-8fea-4375-aab0-b7bd6364e081",
   "metadata": {},
   "source": [
    "## Control Flow "
   ]
  },
  {
   "cell_type": "markdown",
   "id": "ae9d7b29-d86c-4d05-be54-b251a13e6de7",
   "metadata": {},
   "source": [
    "### if Statements"
   ]
  },
  {
   "cell_type": "markdown",
   "id": "f09e5c7f-bfe2-46f1-a237-3c920424e84e",
   "metadata": {},
   "source": [
    "Used to execute code based on a condition."
   ]
  },
  {
   "cell_type": "markdown",
   "id": "6f2523cd-b874-47e7-9a35-52d91cb4a3ef",
   "metadata": {},
   "source": [
    "```\n",
    "# Example of an if statement \n",
    "age = 18 \n",
    "if age >= 18:\n",
    "    print(\"You are an adult.\")\n",
    "else:\n",
    "    print(\"You are a minor.\")\n",
    "```"
   ]
  },
  {
   "cell_type": "markdown",
   "id": "3d2e94c6-cd45-4816-8a96-f0efce4c4aba",
   "metadata": {},
   "source": [
    "### Loops "
   ]
  },
  {
   "cell_type": "markdown",
   "id": "ff56cf23-2fab-4544-8b1f-3be3e9ac1d5c",
   "metadata": {},
   "source": [
    "Loops are used to repeat a block of code multiple times. "
   ]
  },
  {
   "cell_type": "markdown",
   "id": "82957499-4bb4-44dc-850e-d4c858e2159b",
   "metadata": {},
   "source": [
    "#### For Loops \n",
    "Used for iterating over a sequence *like a list or range)."
   ]
  },
  {
   "cell_type": "markdown",
   "id": "af96f5ea-17bd-45c5-912e-5c69d07273e9",
   "metadata": {},
   "source": [
    "```\n",
    "# For loop example\n",
    "for i in range(5):\n",
    "    print(\"Iteration\", i)\n",
    "```"
   ]
  },
  {
   "cell_type": "markdown",
   "id": "e279fcf9-554c-455e-8f25-acdeeb1e8122",
   "metadata": {},
   "source": [
    "#### While Loops\n",
    "Repeats as long as a condition is true. \n",
    "```\n",
    "# While Loop example \n",
    "count = 0 \n",
    "while count < 5:\n",
    "    print(\"Count is\", count)\n",
    "    count += 1\n",
    "```"
   ]
  },
  {
   "cell_type": "markdown",
   "id": "4a8aec70-b96a-4f35-a78a-212103862b24",
   "metadata": {},
   "source": [
    "## Lists\n",
    "Lists are ordered, mutable collections of items. \n",
    "```\n",
    "# Creating a list\n",
    "fruits = [\"apple\", \"banana\", \"cherry\" ]\n",
    "\n",
    "# Accessing List items\n",
    "print(fruits[0]) # Outputs: apple\n",
    "\n",
    "# Modifying list items\n",
    "fruits[1] = \"blueberry\"\n",
    "\n",
    "# Adding items to a list\n",
    "fruits.append(\"date\")\n",
    "\n",
    "# Removing items from a list\n",
    "fruits.remove(\"apple\")\n",
    "```"
   ]
  },
  {
   "cell_type": "markdown",
   "id": "ae39ab6d-f641-447d-9155-d85198a04c1d",
   "metadata": {},
   "source": [
    "### Common list Methods\n",
    "1. append(item) : Adds an item to the end of the list. \n",
    "2. insert(index, item) : Inserts an item at a specific index.\n",
    "3. remove(item) : Removes the first occurence of an item. \n",
    "4. pop(index): Removes and returns the item at the given index\n",
    "5. sort() : Sorts the list.\n",
    "6. reverse() : Reverses the list. \n"
   ]
  },
  {
   "cell_type": "markdown",
   "id": "8bc272f2-065d-4b8e-a932-813728178036",
   "metadata": {},
   "source": [
    "## Dictionaries\n",
    "Dictionaries are used to store data values in key-value pairs \n",
    "```\n",
    "# Creating a dictionary\n",
    "person = {\"name\": \"Alice\", \"age\": 25 }\n",
    "\n",
    "# Accessing dictionary items\n",
    "print(person[\"name\"]) # Outputs: Alice\n",
    "\n",
    "# Modifying dictionary items\n",
    "person[\"age\"] = 26\n",
    "\n",
    "# Adding a new key-value pair\n",
    "person[\"city'} = \"New York\"\n",
    "```\n",
    "### Common Dictionary Methods\n",
    "1. Keys() : Returns a list of keys\n",
    "2. values(): Returns a list of values.\n",
    "3. items() : Returns a list of key-value pairs.\n",
    "4. get(key) : Returns the value for the specified key. "
   ]
  },
  {
   "cell_type": "markdown",
   "id": "cec49097-d478-48ea-97b6-51b81b5810cd",
   "metadata": {},
   "source": [
    "## Functions \n",
    "Functions are reuseable blocks of code that preform a specific task. \n",
    "```\n",
    "# Defining a function\n",
    "def greet(name):\n",
    "    return f\"Hello, {name}!\"\n",
    "\n",
    "# Calling a function \n",
    "message = greet(\"Alice\")\n",
    "print(message) # Outputs: Hello, Alive!\n",
    "```\n",
    "### Parameters and Arguments \n",
    "Functions can take parameters to work with different values. \n",
    "```\n",
    "\n",
    "# Function with parameters\n",
    "def add(a, b):\n",
    "    return a + b\n",
    "\n",
    "# Calling the function with arguments\n",
    "result = add(3, 4)\n",
    "print(result) # Outputs: 7\n",
    "```"
   ]
  },
  {
   "cell_type": "markdown",
   "id": "8fe82746-3c34-494a-9240-8d6370f72c25",
   "metadata": {},
   "source": [
    "## Input and Output \n",
    "### Input \n",
    "Used to get user input from the console \n",
    "\n",
    "```\n",
    "# Getting user input\n",
    "name = input(\"Enter your name: \")\n",
    "print(f\"Hello, {name}!\")\n",
    "```\n",
    "\n",
    "### Output \n",
    "Used to display information to the console \n",
    "\n",
    "```\n",
    "# Printing output\n",
    "print(\"Welcome to Python programming!\")\n",
    "```"
   ]
  },
  {
   "cell_type": "markdown",
   "id": "42a4533b-95f5-4a11-a475-dcb179262804",
   "metadata": {},
   "source": [
    "## Comments \n",
    "Comments are used to explain code and are ignored by the interpreter \n",
    "1. Single-line comment\n",
    "\n",
    "`#` This is a single-line comment \n",
    "\n",
    "2. Multi-line comment:\n",
    "\n",
    "`  ``` `\n"
   ]
  },
  {
   "cell_type": "markdown",
   "id": "75ee6ce3-bce4-4a58-aad0-761a138a66bc",
   "metadata": {},
   "source": [
    "```\n",
    "This is a \n",
    "multi-line comment\n",
    "```"
   ]
  },
  {
   "cell_type": "markdown",
   "id": "5972bf17-a004-4ad5-b38c-b4d4227dc982",
   "metadata": {},
   "source": [
    "` ``` `"
   ]
  },
  {
   "cell_type": "markdown",
   "id": "56d8b265-b090-4c1d-9c49-274ffcb891d6",
   "metadata": {},
   "source": [
    "## Object-Oriented Programming (OOP)\n",
    "Python supports object-oriented programming, which allows you to create classes and objects. \n",
    "### Classes and Objects \n",
    "1. __Class__: A blueprint for creating objects.\n",
    "2. __Object__: An instance of a class.\n",
    "```\n",
    "\n",
    "# Defining a class\n",
    "class Person:\n",
    "    def __init__(self, name, age):\n",
    "    self.name = name\n",
    "    self.age = age\n",
    "\n",
    "    def greet(self):\n",
    "    return f\"Hello, my name is {self.name}.\"\n",
    "\n",
    "# Creating an object\n",
    "person1 = Person(\"Alice\", 25)\n",
    "print(person1.greet())  # Outputs: Hello, my name is Alice.\n",
    "```"
   ]
  }
 ],
 "metadata": {
  "kernelspec": {
   "display_name": "Python 3 (ipykernel)",
   "language": "python",
   "name": "python3"
  },
  "language_info": {
   "codemirror_mode": {
    "name": "ipython",
    "version": 3
   },
   "file_extension": ".py",
   "mimetype": "text/x-python",
   "name": "python",
   "nbconvert_exporter": "python",
   "pygments_lexer": "ipython3",
   "version": "3.12.1"
  }
 },
 "nbformat": 4,
 "nbformat_minor": 5
}
