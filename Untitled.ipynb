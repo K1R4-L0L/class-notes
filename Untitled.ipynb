{
 "cells": [
  {
   "cell_type": "markdown",
   "id": "3a074199-93f5-4297-a5f2-679f1b142f55",
   "metadata": {},
   "source": [
    "# CSS Notes"
   ]
  },
  {
   "cell_type": "markdown",
   "id": "3fd72b0c-5a35-4eb7-b229-a5dca95989a1",
   "metadata": {},
   "source": [
    "## 1. What is CSS?"
   ]
  },
  {
   "cell_type": "markdown",
   "id": "5ca9d1e0-a69d-4bae-8caf-5bf2eb767348",
   "metadata": {},
   "source": [
    " CSS (Cascading Style Sheets) is a language used to describe the presentation of a web page written in HTML. it controls the layour, colors, fonts, and overall visual appearance of the web pages"
   ]
  },
  {
   "cell_type": "markdown",
   "id": "0454df42-bc75-4866-98ff-eaaf6652bd4d",
   "metadata": {},
   "source": [
    "### CSS Syntax"
   ]
  },
  {
   "cell_type": "markdown",
   "id": "48a10a37-2b74-4b1a-a5b6-ef8c1cc322ba",
   "metadata": {},
   "source": [
    "A CSS rule consists of a selector and a declaration block:"
   ]
  },
  {
   "cell_type": "markdown",
   "id": "efff311b-0199-4f1d-aea5-161c4133a83c",
   "metadata": {},
   "source": [
    "```\n",
    "selector {\n",
    "    property: value;\n",
    "}\n",
    "```"
   ]
  },
  {
   "cell_type": "markdown",
   "id": "f40ec8a6-1577-46de-8655-e299d3cf86d8",
   "metadata": {},
   "source": [
    "1. __Selector__: Specifies the HTML element(s) you want to style.\n",
    "2. __Property__: The style attrivute you want the change (e.g., color, font-size).\n",
    "3. __Value__: The value of the property (e.g., blue,16px)."
   ]
  },
  {
   "cell_type": "markdown",
   "id": "0611e52a-4207-47ac-a3f4-b5a2f4ee9b7c",
   "metadata": {},
   "source": [
    "### Example:"
   ]
  },
  {
   "cell_type": "markdown",
   "id": "37ec3fb7-d17f-425e-9717-0d89cb1efc74",
   "metadata": {},
   "source": [
    "```\n",
    "p{\n",
    "    color:blue;\n",
    "    font-size: 14px;\n",
    "}\n",
    "```"
   ]
  },
  {
   "cell_type": "markdown",
   "id": "dda0312b-acf7-4316-b1dd-bb59dc65b776",
   "metadata": {},
   "source": [
    "This styles all `<p>` elements to have vlue text and a `font-size` of 14 pixels"
   ]
  },
  {
   "cell_type": "markdown",
   "id": "2684191e-d6f2-447b-ae30-1b08a34bbe1b",
   "metadata": {},
   "source": [
    "## 2. Adding CSS to HTML using External CSS"
   ]
  },
  {
   "cell_type": "markdown",
   "id": "ad7e25bc-db20-4afb-86c8-a5779de62c71",
   "metadata": {},
   "source": [
    "### External CSS"
   ]
  },
  {
   "cell_type": "markdown",
   "id": "7e66b4a7-b2de-47b8-ab33-01ff841fefc9",
   "metadata": {},
   "source": [
    "uses an external `.css` file linked with the `<link>` tag"
   ]
  },
  {
   "cell_type": "markdown",
   "id": "a7b204e2-cc72-457b-b52f-636da1fda396",
   "metadata": {},
   "source": [
    "```\n",
    "<head> \n",
    "    <link rel=\"stylesheet\" href=\"styles.css\" \n",
    "</head>\n",
    "```"
   ]
  },
  {
   "cell_type": "markdown",
   "id": "7d177b30-abc2-44f5-bfda-c45c62f9a11d",
   "metadata": {},
   "source": [
    "## 3. CSS Selectors"
   ]
  },
  {
   "cell_type": "markdown",
   "id": "56fa6ff2-304b-44d2-b69c-a92ecd602a3b",
   "metadata": {},
   "source": [
    "### Element Selector "
   ]
  },
  {
   "cell_type": "markdown",
   "id": "e4fe3c8d-a14b-468e-9540-18d2c1b774f2",
   "metadata": {},
   "source": [
    "selects all elements of a given type"
   ]
  },
  {
   "cell_type": "markdown",
   "id": "d9eb5b9a-f4e5-4e91-8217-327667e7d4aa",
   "metadata": {},
   "source": [
    "```\n",
    "h1 {\n",
    "    color: red;\n",
    "}\n",
    "```"
   ]
  },
  {
   "cell_type": "markdown",
   "id": "47e78e34-fcc1-4416-989b-73922ae75afd",
   "metadata": {},
   "source": [
    "### Class Selector"
   ]
  },
  {
   "cell_type": "markdown",
   "id": "d144aac5-c6c6-4ce2-9b72-ab4af572deee",
   "metadata": {},
   "source": [
    "selects elements with a specific class attribute. Use a period `.` followed by the class name"
   ]
  },
  {
   "cell_type": "markdown",
   "id": "bbc499ae-824e-494b-87a4-952348d91273",
   "metadata": {},
   "source": [
    "```\n",
    ".intro {\n",
    "    font-size: 16px;\n",
    "}\n",
    "```"
   ]
  },
  {
   "cell_type": "markdown",
   "id": "1f834b35-cca5-4b7d-b678-19c0a810a849",
   "metadata": {},
   "source": [
    "A class selector must be paired with creating the class in an `html` file"
   ]
  },
  {
   "cell_type": "markdown",
   "id": "f48253fd-0b8e-4d61-baf1-e734ac546fd2",
   "metadata": {},
   "source": [
    "```\n",
    "<p class=\"intro\"> This is an introductory paragraph.</p>\n",
    "```"
   ]
  },
  {
   "cell_type": "markdown",
   "id": "c64a7602-5733-48e6-b900-7f2be7e9aa58",
   "metadata": {},
   "source": [
    "### ID Selector"
   ]
  },
  {
   "cell_type": "markdown",
   "id": "ef3e6996-4f07-4fd5-be20-af18958eaa50",
   "metadata": {},
   "source": [
    "Selects an element with a specific `id` attribute. Use a hash `#` followed by the `id` name"
   ]
  },
  {
   "cell_type": "markdown",
   "id": "5f81471e-4268-46c6-a45e-a986af1e2538",
   "metadata": {},
   "source": [
    "```\n",
    "#main { \n",
    "    width: 960px;\n",
    "}\n",
    "```"
   ]
  },
  {
   "cell_type": "markdown",
   "id": "e0692129-6a33-4e00-a896-51131c66c660",
   "metadata": {},
   "source": [
    "An `ID` selector must be paired with creating the `ID` in an `html ` file . An `ID` is used to select a very specific html element. we can use them with classes to further differentiate among elements"
   ]
  },
  {
   "cell_type": "markdown",
   "id": "96df6364-38c4-436d-8034-8ae7edfa9ea1",
   "metadata": {},
   "source": [
    "### Universal Selector "
   ]
  },
  {
   "cell_type": "markdown",
   "id": "39552d94-58de-46b1-95d1-b1f36352c405",
   "metadata": {},
   "source": [
    "Selects all elements"
   ]
  },
  {
   "cell_type": "markdown",
   "id": "27ec9913-39ed-48d8-aed5-5c7a82719e39",
   "metadata": {},
   "source": [
    "```\n",
    "* {\n",
    "    margin: 0;\n",
    "    padding: 0;\n",
    "}\n",
    "```"
   ]
  },
  {
   "cell_type": "markdown",
   "id": "62849ed0-b3ff-4e28-91cb-33acb2254130",
   "metadata": {},
   "source": [
    "### Grouping Selectors "
   ]
  },
  {
   "cell_type": "markdown",
   "id": "96f51b0d-e3e4-4f82-a813-78f9de3c21ae",
   "metadata": {},
   "source": [
    "Applies the same styles to multiple selectors. "
   ]
  },
  {
   "cell_type": "markdown",
   "id": "52a3fb59-00cd-46e3-9dc2-899a11b159aa",
   "metadata": {},
   "source": [
    "```\n",
    "h1, h2, h3 {\n",
    "    color: navy;\n",
    "}\n",
    "```"
   ]
  },
  {
   "cell_type": "markdown",
   "id": "3d918356-32d7-4169-babc-e01e1883ac39",
   "metadata": {},
   "source": [
    "## 4. Common CSS Properties "
   ]
  },
  {
   "cell_type": "markdown",
   "id": "ccf7d0dc-1ff4-421b-a978-7b3605f80d88",
   "metadata": {},
   "source": [
    "### Text Properties "
   ]
  },
  {
   "cell_type": "markdown",
   "id": "3568b07d-c738-4a1a-be12-6d234f0500bb",
   "metadata": {},
   "source": [
    "color: Sets the color of the text "
   ]
  },
  {
   "cell_type": "markdown",
   "id": "2b52c721-5f19-4ff7-85e7-22858ecc0e11",
   "metadata": {},
   "source": [
    "```\n",
    "p { \n",
    "    color: #333333;\n",
    "}\n",
    "```\n",
    "    "
   ]
  },
  {
   "cell_type": "markdown",
   "id": "c04048d1-0aea-4e5a-8068-2faace06f722",
   "metadata": {},
   "source": [
    "font-size: Sets the size of the font"
   ]
  },
  {
   "cell_type": "markdown",
   "id": "83771314-62e5-475e-b79d-5a4487cc9d67",
   "metadata": {},
   "source": [
    "```\n",
    "p {\n",
    "    font-size: 14px;\n",
    "}\n",
    "```"
   ]
  },
  {
   "cell_type": "markdown",
   "id": "7acca7fc-223e-4944-924e-c98e716c1e06",
   "metadata": {},
   "source": [
    "font-family: Specifies the font of the text"
   ]
  },
  {
   "cell_type": "markdown",
   "id": "120d2810-b539-4982-9e79-d317097f8b6f",
   "metadata": {},
   "source": [
    "```\n",
    "p {\n",
    "    font-family: Arial, sans-serif;\n",
    "}\n",
    "```"
   ]
  },
  {
   "cell_type": "markdown",
   "id": "7d594dab-7b79-40ee-9ff7-343d02c565fb",
   "metadata": {},
   "source": [
    "font-weight: Sets the wight (boldness) of the text "
   ]
  },
  {
   "cell_type": "markdown",
   "id": "b831a2cc-2ea0-4113-a825-860f06c9cf81",
   "metadata": {},
   "source": [
    "```\n",
    "p {\n",
    "    font-weight: bold;\n",
    "}\n",
    "```"
   ]
  },
  {
   "cell_type": "markdown",
   "id": "4e23b84b-f999-46b1-a827-27b0d7441874",
   "metadata": {},
   "source": [
    "text-align: Aligns the text horizontally."
   ]
  },
  {
   "cell_type": "markdown",
   "id": "42c50ca6-b977-4b4c-a16e-749bd11b3f9d",
   "metadata": {},
   "source": [
    "```\n",
    "p{\n",
    "    text-align: center; \n",
    "}\n",
    "```"
   ]
  },
  {
   "cell_type": "markdown",
   "id": "332b9307-3906-4659-b6fd-3718d2265076",
   "metadata": {},
   "source": [
    "### Background Properties"
   ]
  },
  {
   "cell_type": "markdown",
   "id": "ff9c8d3c-f73d-4048-a814-472c3f9898b2",
   "metadata": {},
   "source": [
    "background-color: Sets the background color of an element"
   ]
  },
  {
   "cell_type": "markdown",
   "id": "0146ad4c-bb7a-46f1-9ef1-2b15980306bb",
   "metadata": {},
   "source": [
    "```\n",
    "body {\n",
    "    background-color: #f0f0f0;\n",
    "}\n",
    "```"
   ]
  },
  {
   "cell_type": "markdown",
   "id": "d15cefcd-73fc-4651-9269-e4c7a99d530c",
   "metadata": {},
   "source": [
    "background-image: Sets a background image for an element"
   ]
  },
  {
   "cell_type": "markdown",
   "id": "11765fce-2cb1-431c-afdc-c84aab47f9e2",
   "metadata": {},
   "source": [
    "```\n",
    "Body {\n",
    "    background-image: url('background.jpg');\n",
    "}\n",
    "```"
   ]
  },
  {
   "cell_type": "markdown",
   "id": "a729aba1-c2f6-453d-aa4c-f757afc50b6b",
   "metadata": {},
   "source": [
    "### Box Model Properties"
   ]
  },
  {
   "cell_type": "markdown",
   "id": "5cd8a994-dc13-4ff0-a034-ffa5952f5fd1",
   "metadata": {},
   "source": [
    "The CSS box model consists of margins. borders, padding, and the content area."
   ]
  },
  {
   "cell_type": "markdown",
   "id": "3172bbf5-8f6d-4187-b69e-830ec8eec5d6",
   "metadata": {},
   "source": [
    "`width` and `height`: Set the size of the content area"
   ]
  },
  {
   "cell_type": "markdown",
   "id": "9836086c-2552-40bd-9294-053fb8b068bf",
   "metadata": {},
   "source": [
    "``` \n",
    "div {\n",
    "    width: 200px;\n",
    "    height: 100px;\n",
    "}\n",
    "```"
   ]
  },
  {
   "cell_type": "markdown",
   "id": "35051b4a-e68f-4695-90c3-efa4027bcbf0",
   "metadata": {},
   "source": [
    "padding: Sets the space between the content and the border"
   ]
  },
  {
   "cell_type": "markdown",
   "id": "539587a9-eb68-4cbc-b0ab-1ecfeca9ebb1",
   "metadata": {},
   "source": [
    "```\n",
    "div {\n",
    "    padding: 10px;\n",
    "}\n",
    "```"
   ]
  },
  {
   "cell_type": "markdown",
   "id": "7493cd35-dc3b-44ff-935a-4f5b893805f4",
   "metadata": {},
   "source": [
    "border: Sets the border around an element"
   ]
  },
  {
   "cell_type": "markdown",
   "id": "46469bde-9f74-4077-b305-7e2f695d70e5",
   "metadata": {},
   "source": [
    "```\n",
    "div{\n",
    "    border: 1px solid #000;\n",
    "}\n",
    "```"
   ]
  },
  {
   "cell_type": "markdown",
   "id": "b8513471-63bf-496a-8600-5bf2fb482963",
   "metadata": {},
   "source": [
    "margin: Sets the space outside the border "
   ]
  },
  {
   "cell_type": "markdown",
   "id": "1cff109f-3528-43a2-a18c-edfd012feca5",
   "metadata": {},
   "source": [
    "```\n",
    "div {\n",
    "    margin: 20px;\n",
    "}\n",
    "```"
   ]
  },
  {
   "cell_type": "markdown",
   "id": "7a82b45c-d23f-4416-94e1-b0bfc5175fd4",
   "metadata": {},
   "source": [
    "### Display and Visibility "
   ]
  },
  {
   "cell_type": "markdown",
   "id": "0c764beb-2358-4a7b-a11c-1fe52ae79e20",
   "metadata": {},
   "source": [
    "display: Specifies the display behavior of an element"
   ]
  },
  {
   "cell_type": "markdown",
   "id": "b18d4f01-fa9a-46f6-a7ec-d35261d8684c",
   "metadata": {},
   "source": [
    "```\n",
    ".inline {\n",
    "    display: inline;\n",
    "}\n",
    "```"
   ]
  },
  {
   "cell_type": "markdown",
   "id": "c040a181-f6a6-4fde-9e60-631bf4b34ba7",
   "metadata": {},
   "source": [
    "```\n",
    ".block {\n",
    "    display: block;\n",
    "}\n",
    "```"
   ]
  },
  {
   "cell_type": "markdown",
   "id": "c3a10228-6785-4ca7-9075-480aaebd3067",
   "metadata": {},
   "source": [
    "```\n",
    ".none {\n",
    "display: none' /* Hides the element */\n",
    "}\n",
    "```"
   ]
  },
  {
   "cell_type": "markdown",
   "id": "08dc3697-2efb-438f-9984-b113f77a62b1",
   "metadata": {},
   "source": [
    "visibility: Controls the visibility of an element."
   ]
  },
  {
   "cell_type": "markdown",
   "id": "7b46eb2c-b37a-4d03-b8ba-bf62c8692290",
   "metadata": {},
   "source": [
    "```\n",
    ".invisible {\n",
    "visibility: hidden; /* Element takes up space but is not visible\n",
    "*/\n",
    "}\n",
    "```"
   ]
  },
  {
   "cell_type": "markdown",
   "id": "fd93bd64-90a2-451e-90d4-596202e9076d",
   "metadata": {},
   "source": [
    "## 5. CSS Flexbox "
   ]
  },
  {
   "cell_type": "markdown",
   "id": "ce38df4a-d345-46bc-ab87-08a93268b6b6",
   "metadata": {},
   "source": [
    "Flexbox is a layout mode in CSS designed to provide a more efficient way to lay out, align, and distribute space among items in a container."
   ]
  },
  {
   "cell_type": "markdown",
   "id": "2a6997b0-c736-4ac4-aeab-5891699f4add",
   "metadata": {},
   "source": [
    "### Setting Up a Flex Container"
   ]
  },
  {
   "cell_type": "markdown",
   "id": "9afa210c-b087-487f-94ff-85dd448be50f",
   "metadata": {},
   "source": [
    "```\n",
    ".container {\n",
    "    display: flex;\n",
    "}\n",
    "```"
   ]
  },
  {
   "cell_type": "markdown",
   "id": "fd6ccb44-fc7b-441c-afeb-50c66ed2b9d9",
   "metadata": {},
   "source": [
    "### Flex Direction"
   ]
  },
  {
   "cell_type": "markdown",
   "id": "5d3a5b92-1c56-4bf6-8567-e2ba7e690119",
   "metadata": {},
   "source": [
    "Specifies the direction of the `flex items`"
   ]
  },
  {
   "cell_type": "markdown",
   "id": "f39a647f-50a2-4d81-a110-86100c5c6827",
   "metadata": {},
   "source": [
    "```\n",
    ".container {\n",
    "    flex-direction: row; /* row, row-reverse, column, column-reverse \n",
    "*/\n",
    "}\n",
    "```"
   ]
  },
  {
   "cell_type": "markdown",
   "id": "9f32a94c-f39b-406b-ae78-f4391fbe1936",
   "metadata": {},
   "source": [
    "### Justify Content "
   ]
  },
  {
   "cell_type": "markdown",
   "id": "61a25792-0514-48a6-9d0d-316444360267",
   "metadata": {},
   "source": [
    "Aligns items along the `main axis`."
   ]
  },
  {
   "cell_type": "markdown",
   "id": "434f3346-e885-48c8-bc54-6c799fe4f5e9",
   "metadata": {},
   "source": [
    "```\n",
    ".container {\n",
    "    justify-content: center; /* flex-start, flex-end, center, space-between, space-around */\n",
    "    }\n",
    "```"
   ]
  },
  {
   "cell_type": "markdown",
   "id": "70d1beb1-174b-4e63-894d-3e2648c0d117",
   "metadata": {},
   "source": [
    "### Align Items"
   ]
  },
  {
   "cell_type": "markdown",
   "id": "37ca1b3c-02c3-4242-b665-33394f6b69ac",
   "metadata": {},
   "source": [
    "Aligns items along the cross axis. "
   ]
  },
  {
   "cell_type": "markdown",
   "id": "60323519-48cf-4cb7-b534-a89e057420e2",
   "metadata": {},
   "source": [
    "```\n",
    ".container {\n",
    "    align-items: center; /* stretch, flex-start, flex-end, center, baseline */\n",
    "    }\n",
    "```"
   ]
  },
  {
   "cell_type": "markdown",
   "id": "2715d4a0-3357-4b25-8bd8-3c160439b443",
   "metadata": {},
   "source": [
    "### Flex Wrap "
   ]
  },
  {
   "cell_type": "markdown",
   "id": "96e31001-39cd-43ff-91c2-0c40fe274d60",
   "metadata": {},
   "source": [
    "Allows flex items to wrao onto multiple lines. "
   ]
  },
  {
   "cell_type": "markdown",
   "id": "cd401a18-9fc8-4f56-adf3-a8be02ea9dc5",
   "metadata": {},
   "source": [
    "```\n",
    ".container {\n",
    "    flex-wrap: wrap; /* nowrap, wrap-reverse */\n",
    "    }\n",
    "```"
   ]
  },
  {
   "cell_type": "markdown",
   "id": "680bcf6c-09d9-48f0-8b0f-e7c3150f2ec6",
   "metadata": {},
   "source": [
    "### Flex Item Properties "
   ]
  },
  {
   "cell_type": "markdown",
   "id": "b46e3a2e-aa5f-400a-97e2-d9ab1b8b03b0",
   "metadata": {},
   "source": [
    "flex-grow: Specifies how much a flex item will grow relative to the rest."
   ]
  },
  {
   "cell_type": "markdown",
   "id": "4feb616b-9f61-4eff-af99-36dfa52b98a1",
   "metadata": {},
   "source": [
    "```\n",
    ".item {\n",
    "flex-grow: 1;\n",
    "}\n",
    "```"
   ]
  },
  {
   "cell_type": "markdown",
   "id": "fe6ae6eb-d52b-4f4b-9c92-88864e8f11f0",
   "metadata": {},
   "source": [
    "flex-shrink: Specifies how much a flex item will shrink relative to the rest."
   ]
  },
  {
   "cell_type": "markdown",
   "id": "2ea21696-e4d8-4a4b-92a0-1fcb03cff883",
   "metadata": {},
   "source": [
    "```\n",
    ".item {\n",
    "    flex-shrink: 1;\n",
    "}\n",
    "```"
   ]
  },
  {
   "cell_type": "markdown",
   "id": "b4a5c01b-ef35-4b91-9ed0-3a5e45556f2c",
   "metadata": {},
   "source": [
    "## Example Flexbox Layout"
   ]
  },
  {
   "cell_type": "markdown",
   "id": "21a2c926-84d0-4fc3-b5d2-26a2a3ab3168",
   "metadata": {},
   "source": [
    "### HTML:"
   ]
  },
  {
   "cell_type": "markdown",
   "id": "28c6b281-ec05-4577-be03-1c165e42e29d",
   "metadata": {},
   "source": [
    "```\n",
    "<div class=\"container\">\n",
    "    <div class=\"item\"> Item 1</div>\n",
    "    <div class=\"item\"> Item 2</div>\n",
    "    <div class=\"item\"> Item 3</div>\n",
    "</div>\n",
    "```"
   ]
  },
  {
   "cell_type": "markdown",
   "id": "e2009a1c-1278-4da8-a60c-b340ab34c1cc",
   "metadata": {},
   "source": [
    "### CSS"
   ]
  },
  {
   "cell_type": "markdown",
   "id": "d55f30aa-e777-4de9-982c-95f46bb11314",
   "metadata": {},
   "source": [
    "```\n",
    ".container {\n",
    "    display: flex;\n",
    "    flex-direction: row;\n",
    "    justify-content: space-between;\n",
    "    align-items: center:\n",
    "}\n",
    "```"
   ]
  },
  {
   "cell_type": "markdown",
   "id": "31ec42b5-b94b-4dd3-82e2-3813a3564701",
   "metadata": {},
   "source": [
    "```\n",
    ".item {\n",
    "    background-color: lightblue;\n",
    "    padding: 20px;\n",
    "    margin: 10px;\n",
    "    flex: 1;\n",
    "}\n",
    "```"
   ]
  },
  {
   "cell_type": "markdown",
   "id": "bb084a97-c289-4166-aa9d-e415c0bc3798",
   "metadata": {},
   "source": [
    "This creates a responsive layout where items are evenly spaced and aligned"
   ]
  }
 ],
 "metadata": {
  "kernelspec": {
   "display_name": "Python 3 (ipykernel)",
   "language": "python",
   "name": "python3"
  },
  "language_info": {
   "codemirror_mode": {
    "name": "ipython",
    "version": 3
   },
   "file_extension": ".py",
   "mimetype": "text/x-python",
   "name": "python",
   "nbconvert_exporter": "python",
   "pygments_lexer": "ipython3",
   "version": "3.12.1"
  }
 },
 "nbformat": 4,
 "nbformat_minor": 5
}
